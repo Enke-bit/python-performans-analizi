{
 "cells": [
  {
   "cell_type": "code",
   "execution_count": 1,
   "id": "0bbb6f85",
   "metadata": {},
   "outputs": [],
   "source": [
    "import time\n",
    "def zaman_olc(f):\n",
    "    def wrapper(*args):\n",
    "        \n",
    "        basla = time.time()\n",
    "        print(\"Baslangic Zamani:\\t{}\".format(basla))\n",
    "        \n",
    "        f(*args)\n",
    "        \n",
    "        bitis = time.time()\n",
    "        print(\"Bitis Zamani:\\t{}\".format(bitis))\n",
    "        print(\"Gecen Zaman:\\t{}\".format(bitis - basla))\n",
    "        \n",
    "    return wrapper"
   ]
  },
  {
   "cell_type": "code",
   "execution_count": 2,
   "id": "0a78bf98",
   "metadata": {},
   "outputs": [],
   "source": [
    "@zaman_olc\n",
    "def faktoriyel(sayi):\n",
    "    toplam = 1\n",
    "    while sayi > 1:\n",
    "        toplam += 1\n",
    "        sayi   -= 1\n",
    "    print(toplam)"
   ]
  },
  {
   "cell_type": "code",
   "execution_count": 3,
   "id": "1e4d2b65",
   "metadata": {},
   "outputs": [
    {
     "name": "stdout",
     "output_type": "stream",
     "text": [
      "Baslangic Zamani:\t1700569510.7572405\n",
      "12000000\n",
      "Bitis Zamani:\t1700569511.491625\n",
      "Gecen Zaman:\t0.7343845367431641\n"
     ]
    }
   ],
   "source": [
    "faktoriyel(12000000)"
   ]
  }
 ],
 "metadata": {
  "kernelspec": {
   "display_name": "Python 3 (ipykernel)",
   "language": "python",
   "name": "python3"
  },
  "language_info": {
   "codemirror_mode": {
    "name": "ipython",
    "version": 3
   },
   "file_extension": ".py",
   "mimetype": "text/x-python",
   "name": "python",
   "nbconvert_exporter": "python",
   "pygments_lexer": "ipython3",
   "version": "3.11.5"
  }
 },
 "nbformat": 4,
 "nbformat_minor": 5
}
